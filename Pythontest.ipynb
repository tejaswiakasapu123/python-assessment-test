{
 "cells": [
  {
   "cell_type": "markdown",
   "metadata": {},
   "source": [
    "* create a function to calculate the average of first N prime numbers\n",
    "* write a program to find the second largest numbers in a given list"
   ]
  },
  {
   "cell_type": "code",
   "execution_count": null,
   "metadata": {},
   "outputs": [
    {
     "name": "stdout",
     "output_type": "stream",
     "text": [
      "average of prime numbers\n",
      "55\n",
      "Sum of first 55 prime numbers:\n",
      "6338\n"
     ]
    }
   ],
   "source": [
    "### create a function to calculate the average of first N prime numbers\n",
    "\n",
    "def is_prime(n):\n",
    "    MAX = 105000\n",
    "    print(\"average of prime numbers\") \n",
    "    is_prime = [True for _ in range(MAX)]\n",
    "    is_prime[0] = is_prime[1] = False\n",
    "    for i in range(2, int(MAX ** (1 / 2)) + 1):\n",
    "        if is_prime[i]:\n",
    "            for j in range(i ** 2, MAX, i):\n",
    "                is_prime[j] = False \n",
    "    primes = [i for i in range(MAX) if is_prime[i]] \n",
    "    while True:\n",
    "        n = int(input())\n",
    "        if not n:\n",
    "            break\n",
    "        print(\"Sum of first\",n,\"prime numbers:\")\n",
    "        print(sum(primes[:n]))\n",
    "is_prime(\"n\")\n"
   ]
  },
  {
   "cell_type": "code",
   "execution_count": 4,
   "metadata": {},
   "outputs": [
    {
     "name": "stdout",
     "output_type": "stream",
     "text": [
      "Enter number of elements:5\n",
      "Enter element:66\n",
      "Enter element:77\n",
      "Enter element:33\n",
      "Enter element:88\n",
      "Enter element:22\n",
      "Second largest element is: 77\n"
     ]
    }
   ],
   "source": [
    "a=[]\n",
    "n=int(input(\"Enter number of elements:\"))\n",
    "for i in range(1,n+1):\n",
    "    b=int(input(\"Enter element:\"))\n",
    "    a.append(b)\n",
    "a.sort()\n",
    "print(\"Second largest element is:\",a[n-2])\n"
   ]
  },
  {
   "cell_type": "code",
   "execution_count": null,
   "metadata": {},
   "outputs": [],
   "source": []
  },
  {
   "cell_type": "code",
   "execution_count": null,
   "metadata": {},
   "outputs": [],
   "source": []
  },
  {
   "cell_type": "code",
   "execution_count": null,
   "metadata": {},
   "outputs": [],
   "source": []
  },
  {
   "cell_type": "code",
   "execution_count": null,
   "metadata": {},
   "outputs": [],
   "source": []
  }
 ],
 "metadata": {
  "kernelspec": {
   "display_name": "Python 3",
   "language": "python",
   "name": "python3"
  }
 },
 "nbformat": 4,
 "nbformat_minor": 2
}
